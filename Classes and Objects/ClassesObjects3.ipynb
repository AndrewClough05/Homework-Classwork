{
 "cells": [
  {
   "cell_type": "code",
   "execution_count": 19,
   "metadata": {},
   "outputs": [
    {
     "name": "stdout",
     "output_type": "stream",
     "text": [
      "(0.0, 0.0)\n"
     ]
    }
   ],
   "source": [
    "class Point:\n",
    "    '''\n",
    "    Represents a point in 2D space\n",
    "\n",
    "    attributes: x, y\n",
    "    '''\n",
    "\n",
    "\n",
    "    # The __init__ method allows you to specify the attributes at the time of object instantiation.\n",
    "    # Every method should have self as its first parameter, which refers to the calling object.\n",
    "    # The attributes are set to default to 0 if no arguments are provided.\n",
    "    def __init__(self, input_x = 0, input_y = 0):\n",
    "\n",
    "        # isinstance takes a variable as the first argument and a tuple of types as the second argument.\n",
    "        # It returns True if the variable is any one of the types in the tuple and False otherwise.\n",
    "\n",
    "        if not isinstance(input_x, (int, float)):\n",
    "            raise TypeError('x-coordinate must be integer or floating point number.')\n",
    "\n",
    "        if not isinstance(input_y, (int, float)):\n",
    "            raise TypeError('y-coordinate must be integer or floating point number.')\n",
    "\n",
    "        # If no exceptions raised, set up the attributes with the given arguments.\n",
    "        self.x = input_x\n",
    "        self.y = input_y\n",
    "\n",
    "\n",
    "    # The __str__ method allows you to specify how an object should be treated when printed.\n",
    "    def __str__(self):\n",
    "        return f'({self.x}, {self.y})'\n",
    "\n",
    "\n",
    "    # An example of operator overloading (redefining the functionality of a built-in Python\n",
    "    # function).\n",
    "    def __lt__(self, other):\n",
    "        '''\n",
    "        We will define one point to be less than another if it is lesser lexicographically.\n",
    "        '''\n",
    "\n",
    "        # isinstance takes a variable as the first argument and a tuple of types as the second argument.\n",
    "        # It returns True if the variable is any one of the types in the tuple and False otherwise.\n",
    "        if not isinstance(other, Point):\n",
    "            raise TypeError('Cannot compare Point object to non-Point object.')\n",
    "\n",
    "        # If no exceptions raised, continue with the comparison.\n",
    "        if self.x < other.x:\n",
    "            return True\n",
    "        elif self.x == other.x and self.y < other.y:\n",
    "            return True\n",
    "        else:\n",
    "            return False\n",
    "\n",
    "\n",
    "    # See http://docs.python.org/3/reference/datamodel.html#specialnames for other Python\n",
    "    # operators that can be overloaded.\n",
    "\n",
    "    \n",
    "\n",
    "class Polygon:\n",
    "    def __init__(self, setPoints = {Point(), Point(),Point()}):\n",
    "        if not isinstance(setPoints, (list, set)):\n",
    "            raise TypeError('You must input a set or list')\n",
    "        for points in setPoints:\n",
    "            if not isinstance(points, Point):\n",
    "                raise TypeError('this list/set should only contain points')\n",
    "        if len(setPoints) < 3:\n",
    "            raise ValueError (\"The lenght of the set/list isn't long enough\")\n",
    "        self.points = setPoints\n",
    "\n",
    "    def __str__(self):\n",
    "        pointStr = \"Points at \"\n",
    "        for points in self.points:\n",
    "            pointStr += f'{points}'\n",
    "        return pointStr\n",
    "    \n",
    "    def centriod(self):\n",
    "        xTotal = 0\n",
    "        yTotal = 0\n",
    "        for values in self.points:\n",
    "            values.x += xTotal\n",
    "            values.y += yTotal\n",
    "\n",
    "        True_total_x = xTotal / len(self.points)\n",
    "        True_total_y = yTotal / len(self.points)\n",
    "\n",
    "        return Point(True_total_x / len(self.points), True_total_y / len(self.points))\n",
    "\n",
    "\n",
    "test = Polygon([Point(3,2), Point(1,2),Point(5,6)])\n",
    "print(test.centriod())\n",
    "\n",
    "        \n"
   ]
  },
  {
   "cell_type": "code",
   "execution_count": 3,
   "metadata": {},
   "outputs": [
    {
     "ename": "ValueError",
     "evalue": "The lenght of the set/list isn't 3",
     "output_type": "error",
     "traceback": [
      "\u001b[0;31m---------------------------------------------------------------------------\u001b[0m",
      "\u001b[0;31mValueError\u001b[0m                                Traceback (most recent call last)",
      "Cell \u001b[0;32mIn[3], line 44\u001b[0m\n\u001b[1;32m     41\u001b[0m         \u001b[38;5;28mself\u001b[39m\u001b[38;5;241m.\u001b[39mpoint \u001b[38;5;241m=\u001b[39m setPoints\n\u001b[1;32m     43\u001b[0m test2 \u001b[38;5;241m=\u001b[39m {Point(), Point(), Point(), Point()}\n\u001b[0;32m---> 44\u001b[0m \u001b[43mTriangle\u001b[49m\u001b[43m(\u001b[49m\u001b[43mtest2\u001b[49m\u001b[43m)\u001b[49m\n",
      "Cell \u001b[0;32mIn[3], line 40\u001b[0m, in \u001b[0;36mTriangle.__init__\u001b[0;34m(self, setPoints)\u001b[0m\n\u001b[1;32m     37\u001b[0m         \u001b[38;5;28;01mraise\u001b[39;00m \u001b[38;5;167;01mTypeError\u001b[39;00m(\u001b[38;5;124m'\u001b[39m\u001b[38;5;124mthis list/set should only contain points\u001b[39m\u001b[38;5;124m'\u001b[39m)\n\u001b[1;32m     39\u001b[0m \u001b[38;5;28;01mif\u001b[39;00m \u001b[38;5;28mlen\u001b[39m(setPoints) \u001b[38;5;241m!=\u001b[39m \u001b[38;5;241m3\u001b[39m:\n\u001b[0;32m---> 40\u001b[0m     \u001b[38;5;28;01mraise\u001b[39;00m \u001b[38;5;167;01mValueError\u001b[39;00m (\u001b[38;5;124m\"\u001b[39m\u001b[38;5;124mThe lenght of the set/list isn\u001b[39m\u001b[38;5;124m'\u001b[39m\u001b[38;5;124mt 3\u001b[39m\u001b[38;5;124m\"\u001b[39m)\n\u001b[1;32m     41\u001b[0m \u001b[38;5;28mself\u001b[39m\u001b[38;5;241m.\u001b[39mpoint \u001b[38;5;241m=\u001b[39m setPoints\n",
      "\u001b[0;31mValueError\u001b[0m: The lenght of the set/list isn't 3"
     ]
    }
   ],
   "source": [
    "class Point:\n",
    "\n",
    "\n",
    "    def __init__(self, input_x = 0, input_y = 0):\n",
    "        self.x = input_x\n",
    "        self.y = input_y\n",
    "\n",
    "    def __str__(self):\n",
    "        return f'({self.x},{self.y})'\n",
    "    \n",
    "\n",
    "class Polygon:\n",
    "\n",
    "    def __init__(self, setPoints = {Point(), Point(),Point()}):\n",
    "         \n",
    "        if not isinstance(setPoints, (list, set)):\n",
    "            raise TypeError('You must input a set or list')\n",
    "        \n",
    "        for points in setPoints:\n",
    "            if not isinstance(points, Point):\n",
    "                raise TypeError('this list/set should only contain points')\n",
    "            \n",
    "        if len(setPoints) < 3:\n",
    "            raise ValueError (\"The lenght of the set/list isn't long enough\")\n",
    "        self.point = setPoints\n",
    "\n",
    "\n",
    "class Triangle(Polygon):\n",
    "\n",
    "    def __init__(self, setPoints = {Point(), Point(),Point()}):\n",
    "         \n",
    "        if not isinstance(setPoints, (list, set)):\n",
    "            raise TypeError('You must input a set or list')\n",
    "        \n",
    "        for points in setPoints:\n",
    "            if not isinstance(points, Point):\n",
    "                raise TypeError('this list/set should only contain points')\n",
    "            \n",
    "        if len(setPoints) != 3:\n",
    "            raise ValueError (\"The lenght of the set/list isn't 3\")\n",
    "        self.point = setPoints\n",
    "\n",
    "test2 = {Point(), Point(), Point(), Point()}\n",
    "Triangle(test2)"
   ]
  },
  {
   "cell_type": "code",
   "execution_count": 4,
   "metadata": {},
   "outputs": [
    {
     "ename": "ValueError",
     "evalue": "The lenght of the set/list isn't 4",
     "output_type": "error",
     "traceback": [
      "\u001b[0;31m---------------------------------------------------------------------------\u001b[0m",
      "\u001b[0;31mValueError\u001b[0m                                Traceback (most recent call last)",
      "Cell \u001b[0;32mIn[4], line 17\u001b[0m\n\u001b[1;32m     13\u001b[0m         \u001b[38;5;28mself\u001b[39m\u001b[38;5;241m.\u001b[39mpoint \u001b[38;5;241m=\u001b[39m setPoints\n\u001b[1;32m     16\u001b[0m test3 \u001b[38;5;241m=\u001b[39m {Point(),Point()}\n\u001b[0;32m---> 17\u001b[0m \u001b[43mQuadrilateral\u001b[49m\u001b[43m(\u001b[49m\u001b[43mtest3\u001b[49m\u001b[43m)\u001b[49m\n",
      "Cell \u001b[0;32mIn[4], line 12\u001b[0m, in \u001b[0;36mQuadrilateral.__init__\u001b[0;34m(self, setPoints)\u001b[0m\n\u001b[1;32m      9\u001b[0m         \u001b[38;5;28;01mraise\u001b[39;00m \u001b[38;5;167;01mTypeError\u001b[39;00m(\u001b[38;5;124m'\u001b[39m\u001b[38;5;124mthis list/set should only contain points\u001b[39m\u001b[38;5;124m'\u001b[39m)\n\u001b[1;32m     11\u001b[0m \u001b[38;5;28;01mif\u001b[39;00m \u001b[38;5;28mlen\u001b[39m(setPoints) \u001b[38;5;241m!=\u001b[39m \u001b[38;5;241m4\u001b[39m:\n\u001b[0;32m---> 12\u001b[0m     \u001b[38;5;28;01mraise\u001b[39;00m \u001b[38;5;167;01mValueError\u001b[39;00m (\u001b[38;5;124m\"\u001b[39m\u001b[38;5;124mThe lenght of the set/list isn\u001b[39m\u001b[38;5;124m'\u001b[39m\u001b[38;5;124mt 4\u001b[39m\u001b[38;5;124m\"\u001b[39m)\n\u001b[1;32m     13\u001b[0m \u001b[38;5;28mself\u001b[39m\u001b[38;5;241m.\u001b[39mpoint \u001b[38;5;241m=\u001b[39m setPoints\n",
      "\u001b[0;31mValueError\u001b[0m: The lenght of the set/list isn't 4"
     ]
    }
   ],
   "source": [
    "class Quadrilateral(Polygon):\n",
    "    def __init__(self, setPoints = {Point(), Point(),Point()}):\n",
    "         \n",
    "        if not isinstance(setPoints, (list, set)):\n",
    "            raise TypeError('You must input a set or list')\n",
    "        \n",
    "        for points in setPoints:\n",
    "            if not isinstance(points, Point):\n",
    "                raise TypeError('this list/set should only contain points')\n",
    "            \n",
    "        if len(setPoints) != 4:\n",
    "            raise ValueError (\"The lenght of the set/list isn't 4\")\n",
    "        self.point = setPoints\n",
    "\n",
    "\n",
    "test3 = {Point(),Point()}\n",
    "Quadrilateral(test3)"
   ]
  },
  {
   "cell_type": "code",
   "execution_count": 5,
   "metadata": {},
   "outputs": [
    {
     "ename": "TypeError",
     "evalue": "this list/set should only contain points",
     "output_type": "error",
     "traceback": [
      "\u001b[0;31m---------------------------------------------------------------------------\u001b[0m",
      "\u001b[0;31mTypeError\u001b[0m                                 Traceback (most recent call last)",
      "Cell \u001b[0;32mIn[5], line 3\u001b[0m\n\u001b[1;32m      1\u001b[0m \u001b[38;5;66;03m#Test Case 1a\u001b[39;00m\n\u001b[1;32m      2\u001b[0m test1a \u001b[38;5;241m=\u001b[39m {\u001b[38;5;124m'\u001b[39m\u001b[38;5;124mstring\u001b[39m\u001b[38;5;124m'\u001b[39m}\n\u001b[0;32m----> 3\u001b[0m \u001b[43mPolygon\u001b[49m\u001b[43m(\u001b[49m\u001b[43mtest1a\u001b[49m\u001b[43m)\u001b[49m\n",
      "Cell \u001b[0;32mIn[3], line 21\u001b[0m, in \u001b[0;36mPolygon.__init__\u001b[0;34m(self, setPoints)\u001b[0m\n\u001b[1;32m     19\u001b[0m \u001b[38;5;28;01mfor\u001b[39;00m points \u001b[38;5;129;01min\u001b[39;00m setPoints:\n\u001b[1;32m     20\u001b[0m     \u001b[38;5;28;01mif\u001b[39;00m \u001b[38;5;129;01mnot\u001b[39;00m \u001b[38;5;28misinstance\u001b[39m(points, Point):\n\u001b[0;32m---> 21\u001b[0m         \u001b[38;5;28;01mraise\u001b[39;00m \u001b[38;5;167;01mTypeError\u001b[39;00m(\u001b[38;5;124m'\u001b[39m\u001b[38;5;124mthis list/set should only contain points\u001b[39m\u001b[38;5;124m'\u001b[39m)\n\u001b[1;32m     23\u001b[0m \u001b[38;5;28;01mif\u001b[39;00m \u001b[38;5;28mlen\u001b[39m(setPoints) \u001b[38;5;241m<\u001b[39m \u001b[38;5;241m3\u001b[39m:\n\u001b[1;32m     24\u001b[0m     \u001b[38;5;28;01mraise\u001b[39;00m \u001b[38;5;167;01mValueError\u001b[39;00m (\u001b[38;5;124m\"\u001b[39m\u001b[38;5;124mThe lenght of the set/list isn\u001b[39m\u001b[38;5;124m'\u001b[39m\u001b[38;5;124mt long enough\u001b[39m\u001b[38;5;124m\"\u001b[39m)\n",
      "\u001b[0;31mTypeError\u001b[0m: this list/set should only contain points"
     ]
    }
   ],
   "source": [
    "#Test Case 1a\n",
    "test1a = {'string'}\n",
    "Polygon(test1a)"
   ]
  },
  {
   "cell_type": "code",
   "execution_count": 8,
   "metadata": {},
   "outputs": [
    {
     "ename": "ValueError",
     "evalue": "The lenght of the set/list isn't long enough",
     "output_type": "error",
     "traceback": [
      "\u001b[0;31m---------------------------------------------------------------------------\u001b[0m",
      "\u001b[0;31mValueError\u001b[0m                                Traceback (most recent call last)",
      "Cell \u001b[0;32mIn[8], line 3\u001b[0m\n\u001b[1;32m      1\u001b[0m \u001b[38;5;66;03m#Test Case 1b\u001b[39;00m\n\u001b[1;32m      2\u001b[0m test1b \u001b[38;5;241m=\u001b[39m {Point(),Point()}\n\u001b[0;32m----> 3\u001b[0m \u001b[43mPolygon\u001b[49m\u001b[43m(\u001b[49m\u001b[43mtest1b\u001b[49m\u001b[43m)\u001b[49m\n",
      "Cell \u001b[0;32mIn[3], line 24\u001b[0m, in \u001b[0;36mPolygon.__init__\u001b[0;34m(self, setPoints)\u001b[0m\n\u001b[1;32m     21\u001b[0m         \u001b[38;5;28;01mraise\u001b[39;00m \u001b[38;5;167;01mTypeError\u001b[39;00m(\u001b[38;5;124m'\u001b[39m\u001b[38;5;124mthis list/set should only contain points\u001b[39m\u001b[38;5;124m'\u001b[39m)\n\u001b[1;32m     23\u001b[0m \u001b[38;5;28;01mif\u001b[39;00m \u001b[38;5;28mlen\u001b[39m(setPoints) \u001b[38;5;241m<\u001b[39m \u001b[38;5;241m3\u001b[39m:\n\u001b[0;32m---> 24\u001b[0m     \u001b[38;5;28;01mraise\u001b[39;00m \u001b[38;5;167;01mValueError\u001b[39;00m (\u001b[38;5;124m\"\u001b[39m\u001b[38;5;124mThe lenght of the set/list isn\u001b[39m\u001b[38;5;124m'\u001b[39m\u001b[38;5;124mt long enough\u001b[39m\u001b[38;5;124m\"\u001b[39m)\n\u001b[1;32m     25\u001b[0m \u001b[38;5;28mself\u001b[39m\u001b[38;5;241m.\u001b[39mpoint \u001b[38;5;241m=\u001b[39m setPoints\n",
      "\u001b[0;31mValueError\u001b[0m: The lenght of the set/list isn't long enough"
     ]
    }
   ],
   "source": [
    "#Test Case 1b\n",
    "test1b = {Point(),Point()}\n",
    "Polygon(test1b)"
   ]
  },
  {
   "cell_type": "code",
   "execution_count": 12,
   "metadata": {},
   "outputs": [
    {
     "ename": "AttributeError",
     "evalue": "'Polygon' object has no attribute 'centriod'",
     "output_type": "error",
     "traceback": [
      "\u001b[0;31m---------------------------------------------------------------------------\u001b[0m",
      "\u001b[0;31mAttributeError\u001b[0m                            Traceback (most recent call last)",
      "Cell \u001b[0;32mIn[12], line 3\u001b[0m\n\u001b[1;32m      1\u001b[0m \u001b[38;5;66;03m#Test Case 1c\u001b[39;00m\n\u001b[1;32m      2\u001b[0m test \u001b[38;5;241m=\u001b[39m Polygon([Point(), Point(),Point()])\n\u001b[0;32m----> 3\u001b[0m \u001b[38;5;28mprint\u001b[39m(\u001b[43mtest\u001b[49m\u001b[38;5;241;43m.\u001b[39;49m\u001b[43mcentriod\u001b[49m())\n",
      "\u001b[0;31mAttributeError\u001b[0m: 'Polygon' object has no attribute 'centriod'"
     ]
    }
   ],
   "source": [
    "#Test Case 1c\n",
    "test = Polygon([Point(), Point(),Point()])\n",
    "print(test.centriod())"
   ]
  },
  {
   "cell_type": "code",
   "execution_count": 11,
   "metadata": {},
   "outputs": [
    {
     "name": "stdout",
     "output_type": "stream",
     "text": [
      "{<__main__.Point object at 0x7ff5f430cb80>, <__main__.Point object at 0x7ff5f430c730>, <__main__.Point object at 0x7ff5f430d060>}\n"
     ]
    },
    {
     "ename": "AttributeError",
     "evalue": "'set' object has no attribute 'centriod'",
     "output_type": "error",
     "traceback": [
      "\u001b[0;31m---------------------------------------------------------------------------\u001b[0m",
      "\u001b[0;31mAttributeError\u001b[0m                            Traceback (most recent call last)",
      "Cell \u001b[0;32mIn[11], line 4\u001b[0m\n\u001b[1;32m      2\u001b[0m Triangle \u001b[38;5;241m=\u001b[39m {Point(),Point(\u001b[38;5;241m0\u001b[39m,\u001b[38;5;241m1\u001b[39m),Point(\u001b[38;5;241m1\u001b[39m,\u001b[38;5;241m1\u001b[39m)}\n\u001b[1;32m      3\u001b[0m \u001b[38;5;28mprint\u001b[39m(Triangle)\n\u001b[0;32m----> 4\u001b[0m \u001b[38;5;28mprint\u001b[39m(\u001b[43mTriangle\u001b[49m\u001b[38;5;241;43m.\u001b[39;49m\u001b[43mcentriod\u001b[49m())\n",
      "\u001b[0;31mAttributeError\u001b[0m: 'set' object has no attribute 'centriod'"
     ]
    }
   ],
   "source": [
    "#Test Case 2 \n",
    "Triangle = {Point(),Point(0,1),Point(1,1)}\n",
    "print(Triangle)\n",
    "print(Triangle.centriod())"
   ]
  },
  {
   "cell_type": "code",
   "execution_count": 20,
   "metadata": {},
   "outputs": [
    {
     "name": "stdout",
     "output_type": "stream",
     "text": [
      "{<__main__.Point object at 0x7ff5f430c0a0>, <__main__.Point object at 0x7ff5f430cbb0>, <__main__.Point object at 0x7ff5f430d0c0>, <__main__.Point object at 0x7ff5f430c760>}\n"
     ]
    },
    {
     "ename": "AttributeError",
     "evalue": "'set' object has no attribute 'centriod'",
     "output_type": "error",
     "traceback": [
      "\u001b[0;31m---------------------------------------------------------------------------\u001b[0m",
      "\u001b[0;31mAttributeError\u001b[0m                            Traceback (most recent call last)",
      "Cell \u001b[0;32mIn[20], line 4\u001b[0m\n\u001b[1;32m      2\u001b[0m Quad \u001b[38;5;241m=\u001b[39m {Point(),Point(\u001b[38;5;241m0\u001b[39m,\u001b[38;5;241m1\u001b[39m),Point(\u001b[38;5;241m1\u001b[39m,\u001b[38;5;241m1\u001b[39m),Point()}\n\u001b[1;32m      3\u001b[0m \u001b[38;5;28mprint\u001b[39m(Quad)\n\u001b[0;32m----> 4\u001b[0m \u001b[38;5;28mprint\u001b[39m(\u001b[43mQuad\u001b[49m\u001b[38;5;241;43m.\u001b[39;49m\u001b[43mcentriod\u001b[49m())\n",
      "\u001b[0;31mAttributeError\u001b[0m: 'set' object has no attribute 'centriod'"
     ]
    }
   ],
   "source": [
    "#Test Case 3\n",
    "Quad = {Point(),Point(0,1),Point(1,1),Point()}\n",
    "print(Quad)\n",
    "print(Quad.centriod())"
   ]
  }
 ],
 "metadata": {
  "kernelspec": {
   "display_name": "Python 3",
   "language": "python",
   "name": "python3"
  },
  "language_info": {
   "codemirror_mode": {
    "name": "ipython",
    "version": 3
   },
   "file_extension": ".py",
   "mimetype": "text/x-python",
   "name": "python",
   "nbconvert_exporter": "python",
   "pygments_lexer": "ipython3",
   "version": "3.10.13"
  }
 },
 "nbformat": 4,
 "nbformat_minor": 2
}
