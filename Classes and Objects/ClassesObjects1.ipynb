{
 "cells": [
  {
   "cell_type": "code",
   "execution_count": 13,
   "metadata": {},
   "outputs": [
    {
     "name": "stdout",
     "output_type": "stream",
     "text": [
      "1.0 2.0\n",
      "5.0 2.0\n",
      "5.0 5.0\n",
      "1.0 5.0\n",
      "\n",
      "0 0\n",
      "1.0 0\n",
      "1.0 1.0\n",
      "0 1.0\n"
     ]
    }
   ],
   "source": [
    "#Quesiton 1\n",
    "\n",
    "class Point:\n",
    "    '''\n",
    "    Represents a point in 2D space\n",
    "\n",
    "    attributes: x, y\n",
    "    '''\n",
    "\n",
    "class Rectangle:\n",
    "    '''\n",
    "    Represents a rectangle with lower left corner at corner.\n",
    "\n",
    "    attributes: corner (Point object), height (float), width (float)\n",
    "    '''\n",
    "\n",
    "\n",
    "box = Rectangle()       # Instantiate a Rectangle object\n",
    "p = Point()             # Instantiate a new Point object (to use as the corner)\n",
    "p.x = 1.0                # Set the x-coord of p\n",
    "p.y = 2.0              # Set the y-coord of p\n",
    "box.corner = p   # Set the corner of box to be p\n",
    "box.height = 3.0        # Set the height of box\n",
    "box.width = 4.0        # Set the width of box\n",
    "\n",
    "box2 = Rectangle()       # Instantiate a Rectangle object\n",
    "p = Point()             # Instantiate a new Point object (to use as the corner)\n",
    "p.x = 0               # Set the x-coord of p\n",
    "p.y = 0            # Set the y-coord of p\n",
    "box2.corner = p   # Set the corner of box to be p\n",
    "box2.height = 1.0      # Set the height of box\n",
    "box2.width = 1.0       # Set the width of box\n",
    "\n",
    "\n",
    "# Instantiate a Rectangle with corner (1, 2), height 3, and width 4\n",
    "def Get_Corners(inputRectangle):\n",
    "\n",
    "    all_corners = list()\n",
    "    corner1 = inputRectangle.corner\n",
    "    all_corners.append(corner1)\n",
    "    \n",
    "    corner2 = Point()\n",
    "    corner2.x = corner1.x + inputRectangle.width\n",
    "    corner2.y = corner1.y\n",
    "    all_corners.append(corner2)\n",
    "\n",
    "    corner3 = Point()\n",
    "    corner3.x = corner2.x\n",
    "    corner3.y = corner2.y + inputRectangle.height\n",
    "    all_corners.append(corner3)\n",
    "\n",
    "    corner4 = Point() \n",
    "    corner4.x = corner1.x\n",
    "    corner4.y = corner3.y\n",
    "    all_corners.append(corner4)\n",
    "\n",
    "    return all_corners\n",
    "\n",
    "\n",
    "points = Get_Corners(box)\n",
    "for p in points:\n",
    "    print(p.x, p.y)\n",
    "\n",
    "print(\"\")\n",
    "points = Get_Corners(box2)\n",
    "for p in points:\n",
    "    print(p.x, p.y)\n",
    "    "
   ]
  },
  {
   "cell_type": "code",
   "execution_count": 4,
   "metadata": {},
   "outputs": [
    {
     "data": {
      "text/plain": [
       "120.88010589009261"
      ]
     },
     "execution_count": 4,
     "metadata": {},
     "output_type": "execute_result"
    }
   ],
   "source": [
    "\n",
    "pointA = Point()\n",
    "pointA.x = 20\n",
    "pointA.y = 79\n",
    "\n",
    "pointB = Point()\n",
    "pointB.x = 114\n",
    "pointB.y = 3\n",
    "\n",
    "import math\n",
    "\n",
    "def distance(point1, point2):\n",
    "\n",
    "    p1 = point1\n",
    "    p2 = point2\n",
    "\n",
    "    distance = (p2.x - p1.x)**2 + (p2.y - p1.y)**2\n",
    "    final_Distacne = math.sqrt(distance)\n",
    "    \n",
    "    return final_Distacne\n",
    "\n",
    "distance(pointA , pointB)"
   ]
  },
  {
   "cell_type": "code",
   "execution_count": 17,
   "metadata": {},
   "outputs": [
    {
     "name": "stdout",
     "output_type": "stream",
     "text": [
      "False\n",
      "True\n"
     ]
    }
   ],
   "source": [
    "class Circle:\n",
    "        '''\n",
    "    Represents a point in 2D space\n",
    "\n",
    "    attributes: x, y\n",
    "    '''\n",
    "\n",
    "ExCircle = Circle()\n",
    "p.x = 1\n",
    "p.y = 2\n",
    "ExCircle.center = p\n",
    "ExCircle.radius = 1\n",
    "\n",
    "def rect_in_circle(circle, rectangle):\n",
    "    diameter = circle.radius * 2\n",
    "    corner = rectangle.corner\n",
    "    width_of_rect = corner.x + rectangle.width\n",
    "    height_of_rect = corner.y + rectangle.height\n",
    "    \n",
    "    if width_of_rect < diameter and height_of_rect < diameter:\n",
    "        return True\n",
    "    else:\n",
    "        return False\n",
    "        \n",
    "\n",
    "print(rect_in_circle(ExCircle,box))\n",
    "print(rect_in_circle(ExCircle, box2))\n",
    "    "
   ]
  }
 ],
 "metadata": {
  "kernelspec": {
   "display_name": "Python 3",
   "language": "python",
   "name": "python3"
  },
  "language_info": {
   "codemirror_mode": {
    "name": "ipython",
    "version": 3
   },
   "file_extension": ".py",
   "mimetype": "text/x-python",
   "name": "python",
   "nbconvert_exporter": "python",
   "pygments_lexer": "ipython3",
   "version": "3.10.13"
  }
 },
 "nbformat": 4,
 "nbformat_minor": 2
}
