{
 "cells": [
  {
   "cell_type": "markdown",
   "metadata": {},
   "source": [
    "Psuedocode for Question 1\n",
    "\n",
    "Input: how long you want the total of the blocks to be\n",
    "Output: the amount of combonations\n",
    "\n",
    "make an empty list\n",
    "\n",
    "input the partial tiling and the length you want it to be\n",
    "    \n",
    "    if its 0 tiles long\n",
    "        append the empty list becasue its 0 blocks long\n",
    "\n",
    "    else\n",
    "        from 1-4 (length of individual block)\n",
    "            if the block is shorter than the total lenght \n",
    "                make a copy of the partial tiling and append the block to the copy\n",
    "\n",
    "                make an updated lenght from the lenght minus the block you use\n",
    "\n",
    "                rerun the program but with the updated length \n",
    "\n"
   ]
  },
  {
   "cell_type": "code",
   "execution_count": 2,
   "metadata": {},
   "outputs": [],
   "source": [
    "#Question 1\n",
    "\n",
    "\n",
    "\n",
    "def generate_tilings(partial_tiling, length):\n",
    "\n",
    "    if length == 0:\n",
    "        global all_tiles\n",
    "        all_tiles.append(partial_tiling)\n",
    "    \n",
    "    else: \n",
    "        for block in range(1,5):\n",
    "            \n",
    "            if block <= length:\n",
    "                partial_tiling_copy = partial_tiling.copy()\n",
    "                partial_tiling_copy.append(block)\n",
    "\n",
    "                updated_length = length - block\n",
    "\n",
    "                generate_tilings(partial_tiling_copy, updated_length)\n",
    "\n",
    "\n",
    "            \n",
    "        \n",
    "\n",
    "    \n",
    "     \n"
   ]
  },
  {
   "cell_type": "code",
   "execution_count": 3,
   "metadata": {},
   "outputs": [
    {
     "name": "stdout",
     "output_type": "stream",
     "text": [
      "[[1, 1, 1, 1], [1, 1, 2], [1, 2, 1], [1, 3], [2, 1, 1], [2, 2], [3, 1], [4]]\n"
     ]
    }
   ],
   "source": [
    "all_tiles = list()\n",
    "generate_tilings([], 4)\n",
    "print(all_tiles)"
   ]
  },
  {
   "cell_type": "markdown",
   "metadata": {},
   "source": [
    "psuedocode for question 2\n",
    "\n",
    "make an empty list\n",
    "\n",
    "iniate function with a partial sum, remaining ints, target\n",
    "\n",
    "    if the target is 0\n",
    "        make the list global \n",
    "        append the variable to the list (which is 0)\n",
    "\n",
    "    else\n",
    "        for each number in the remainder\n",
    "\n",
    "            if the integer is smaller than the target number \n",
    "            make a copy of the list \n",
    "            append the integer to the copy\n",
    " \n",
    "            make a copy of the remainder \n",
    "            for number in the remainders \n",
    "                if the number is less than the integer being used\n",
    "                    remove it\n",
    "                    \n",
    "                make a new target \n",
    "                \n",
    "                re run the function using the new target\n"
   ]
  },
  {
   "cell_type": "code",
   "execution_count": 37,
   "metadata": {},
   "outputs": [],
   "source": [
    "#Question 2\n",
    "\n",
    "total_combos = list()\n",
    "\n",
    "def subset_sum(partial_sum, remaining_ints, target):\n",
    "    \n",
    "    if target == 0:\n",
    "        global total_combos\n",
    "        total_combos.append(partial_sum)\n",
    "\n",
    "    else: \n",
    "        for int in remaining_ints:\n",
    "            \n",
    "            if int <= target:\n",
    "                partial_sum_copy = partial_sum.copy()\n",
    "                partial_sum_copy.append(int)\n",
    "\n",
    "                remaining_ints_copy = remaining_ints.copy()\n",
    "                for number in remaining_ints:\n",
    "                    if number <= int:  \n",
    "                        remaining_ints_copy.remove(number)\n",
    "\n",
    "                what_remains = target - int\n",
    "\n",
    "                subset_sum(partial_sum_copy, remaining_ints_copy, what_remains)\n",
    "        \n"
   ]
  },
  {
   "cell_type": "code",
   "execution_count": 38,
   "metadata": {},
   "outputs": [
    {
     "name": "stdout",
     "output_type": "stream",
     "text": [
      "[[1, 2, 3], [1, 5], [2, 4], [6]]\n"
     ]
    }
   ],
   "source": [
    "\n",
    "subset_sum([], [1, 2, 3, 4, 5, 6, 7], 6)\n",
    "print(total_combos)"
   ]
  }
 ],
 "metadata": {
  "kernelspec": {
   "display_name": "Python 3",
   "language": "python",
   "name": "python3"
  },
  "language_info": {
   "codemirror_mode": {
    "name": "ipython",
    "version": 3
   },
   "file_extension": ".py",
   "mimetype": "text/x-python",
   "name": "python",
   "nbconvert_exporter": "python",
   "pygments_lexer": "ipython3",
   "version": "3.10.13"
  }
 },
 "nbformat": 4,
 "nbformat_minor": 2
}
