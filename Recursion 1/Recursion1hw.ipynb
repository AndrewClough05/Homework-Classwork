{
 "cells": [
  {
   "cell_type": "code",
   "execution_count": 6,
   "metadata": {},
   "outputs": [
    {
     "name": "stdout",
     "output_type": "stream",
     "text": [
      "100808458960497\n"
     ]
    }
   ],
   "source": [
    "#Question 2\n",
    "known_block_numbers = {1: 1, 2: 2, 3: 4, 4: 8}\n",
    "\n",
    "def amount_of_times(n):\n",
    "    \n",
    "\n",
    "    # Base cases\n",
    "    global known_block_numbers\n",
    "\n",
    "    # All previously computed cases (including base cases) are now handled by the dictionary of known values\n",
    "    if n in known_block_numbers:\n",
    "        return known_block_numbers[n]\n",
    "    # Recursive case\n",
    "    else:\n",
    "        AOT = amount_of_times(n - 1) + amount_of_times(n - 2)+ amount_of_times(n - 3) + amount_of_times(n - 4) \n",
    "\n",
    "        # Update the dictionary of known values before returning\n",
    "        known_block_numbers[n] = AOT\n",
    "        return AOT\n",
    "\n",
    "print(amount_of_times(50))\n",
    "     \n",
    "    \n",
    "\n",
    "    "
   ]
  },
  {
   "cell_type": "code",
   "execution_count": 22,
   "metadata": {},
   "outputs": [
    {
     "ename": "SyntaxError",
     "evalue": "invalid syntax (3855865951.py, line 15)",
     "output_type": "error",
     "traceback": [
      "\u001b[0;36m  Cell \u001b[0;32mIn[22], line 15\u001b[0;36m\u001b[0m\n\u001b[0;31m    (n,k) =\u001b[0m\n\u001b[0m            ^\u001b[0m\n\u001b[0;31mSyntaxError\u001b[0m\u001b[0;31m:\u001b[0m invalid syntax\n"
     ]
    }
   ],
   "source": [
    "#Question 2\n",
    "\n",
    "known_cases = dict()\n",
    "\n",
    "def stirling2(n,k):\n",
    "\n",
    "    if not(known_cases):\n",
    "        # load up needed base cases\n",
    "        for number in range(1,(n + 1)):\n",
    "            known_cases[(number,number)] = 1\n",
    "            known_cases[(number,1)] = 1\n",
    "    elif n in known_cases:\n",
    "        return known_cases[n]\n",
    "    else:\n",
    "        (n,k) = (n - 1,k - 1) + k(n - 1,k)\n",
    "        \n",
    "    \n",
    "\n",
    "    \n",
    "            \n",
    "stirling2(5,1)\n",
    "print(known_cases)\n",
    "\n",
    "\n",
    "\n",
    "\n",
    "    \n",
    "\n"
   ]
  }
 ],
 "metadata": {
  "kernelspec": {
   "display_name": "Python 3",
   "language": "python",
   "name": "python3"
  },
  "language_info": {
   "codemirror_mode": {
    "name": "ipython",
    "version": 3
   },
   "file_extension": ".py",
   "mimetype": "text/x-python",
   "name": "python",
   "nbconvert_exporter": "python",
   "pygments_lexer": "ipython3",
   "version": "3.10.13"
  }
 },
 "nbformat": 4,
 "nbformat_minor": 2
}
