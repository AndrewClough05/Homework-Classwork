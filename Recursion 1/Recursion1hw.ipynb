{
 "cells": [
  {
   "cell_type": "markdown",
   "metadata": {},
   "source": [
    "Pseudocode for quesiton 1\n",
    "\n",
    "input: how long you want the total lenght of blocks to be\n",
    "output: the amount of combonations for the total lenght \n",
    "\n",
    "make a dictionary for lenght of the individual blocks (known blocks)\n",
    "\n",
    "input the lenght of the block s\n",
    "    make sure the dictionary can be used as a global variable in funciton\n",
    "\n",
    "    if input is in known blocks \n",
    "        return that number \n",
    "\n",
    "    else\n",
    "        use the previous 4 numbers combined to get the inputed numbers lenght\n",
    "\n",
    "        put that number into the dictionary to update it\n",
    "\n",
    "    print the total number of times of the length of the input\n",
    "\n",
    "\n"
   ]
  },
  {
   "cell_type": "code",
   "execution_count": 1,
   "metadata": {},
   "outputs": [
    {
     "name": "stdout",
     "output_type": "stream",
     "text": [
      "100808458960497\n"
     ]
    }
   ],
   "source": [
    "#Question 1\n",
    "known_block_numbers = {1: 1, 2: 2, 3: 4, 4: 8}\n",
    "\n",
    "def amount_of_times(n):\n",
    "    \n",
    "\n",
    "    # Base cases\n",
    "    global known_block_numbers\n",
    "\n",
    "    # All previously computed cases (including base cases) are now handled by the dictionary of known values\n",
    "    if n in known_block_numbers:\n",
    "        return known_block_numbers[n]\n",
    "    # Recursive case\n",
    "    else:\n",
    "        AOT = amount_of_times(n - 1) + amount_of_times(n - 2)+ amount_of_times(n - 3) + amount_of_times(n - 4) \n",
    "\n",
    "        # Update the dictionary of known values before returning\n",
    "        known_block_numbers[n] = AOT\n",
    "        return AOT\n",
    "\n",
    "print(amount_of_times(50))\n",
    "     \n",
    "    \n",
    "\n",
    "    "
   ]
  },
  {
   "cell_type": "markdown",
   "metadata": {},
   "source": [
    "Pseudocode for Question 2\n",
    "\n",
    "input the 2 numbers to be calculated / sorted \n",
    "output the amount of different ways they are sorted\n",
    "\n",
    "make a ditionary for the known cases\n",
    "\n",
    "input your two numbers \n",
    "    make sure the dictionary is global\n",
    "\n",
    "    if the numbers aren't in the dict:\n",
    "        loop from 1 to the number plus 1 \n",
    "             if the numbers are the make it equal to 1 in the dict\n",
    "             if the second number is 1 make it equal to 1 in the dict\n",
    "    \n",
    "    if the numbers are in the dictionary already\n",
    "        return the output\n",
    "\n",
    "    if not \n",
    "        use the equation to find what the output would be \n",
    "        return the output\n",
    "        \n",
    "\n",
    "    \n",
    "\n"
   ]
  },
  {
   "cell_type": "code",
   "execution_count": 2,
   "metadata": {},
   "outputs": [
    {
     "name": "stdout",
     "output_type": "stream",
     "text": [
      "42525\n"
     ]
    }
   ],
   "source": [
    "#Question 2\n",
    "\n",
    "known_cases = dict()\n",
    "\n",
    "def stirling2(n,k):\n",
    "\n",
    "    global known_cases\n",
    "    if not(known_cases):\n",
    "        # load up needed base cases\n",
    "        for number in range(1,(n + 1)):\n",
    "            known_cases[(number,number)] = 1\n",
    "            known_cases[(number,1)] = 1\n",
    "    \n",
    "    if (n,k) in known_cases:\n",
    "        return known_cases[(n,k)]\n",
    "    else:\n",
    "       known_cases[(n,k)] = stirling2(n - 1,k - 1) + k * stirling2(n - 1,k)\n",
    "       return known_cases[(n,k)]\n",
    "\n",
    "            \n",
    "        \n",
    "        \n",
    "    \n",
    "\n",
    "    \n",
    "print(stirling2(10,5))\n",
    "        \n",
    "\n",
    "\n",
    "\n",
    "\n",
    "\n",
    "\n",
    "    \n",
    "\n"
   ]
  }
 ],
 "metadata": {
  "kernelspec": {
   "display_name": "Python 3",
   "language": "python",
   "name": "python3"
  },
  "language_info": {
   "codemirror_mode": {
    "name": "ipython",
    "version": 3
   },
   "file_extension": ".py",
   "mimetype": "text/x-python",
   "name": "python",
   "nbconvert_exporter": "python",
   "pygments_lexer": "ipython3",
   "version": "3.10.13"
  }
 },
 "nbformat": 4,
 "nbformat_minor": 2
}
