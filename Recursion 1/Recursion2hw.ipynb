{
 "cells": [
  {
   "cell_type": "markdown",
   "metadata": {},
   "source": [
    "Psuedocode\n",
    "\n",
    "make a function that takes the input arr\n",
    "    make a variavle for the len of the arr\n",
    "    if n is less or = to 1\n",
    "        return the arr\n",
    "    \n",
    "    make variables for the front and back half of the arr\n",
    "\n",
    "    run the function through both halves\n",
    "\n",
    "    make a functino that takes the input of both halves\n",
    "        make an empty array\n",
    "        when the front and back halves aren't equal \n",
    "        take the first number of each front and back and compare them \n",
    "            add the bigger to the empty set\n",
    "        else\n",
    "            add the other number (which is the bigger number)\n",
    "\n",
    "        if the first array empties first \n",
    "        add the other 2 together\n",
    "        else\n",
    "        add the first array and the new one together "
   ]
  },
  {
   "cell_type": "code",
   "execution_count": 17,
   "metadata": {},
   "outputs": [
    {
     "data": {
      "text/plain": [
       "[1, 1, 1, 3, 3, 4, 4, 5, 5, 5, 6]"
      ]
     },
     "execution_count": 17,
     "metadata": {},
     "output_type": "execute_result"
    }
   ],
   "source": [
    "#Question 1\n",
    "def mergesort(arr):\n",
    "    n = len(arr)\n",
    "    if (n <= 1):\n",
    "        return arr\n",
    "    \n",
    "    array1 = arr[: int(n/2)]\n",
    "    array2 = arr[int(n/2) :]\n",
    "   \n",
    "\n",
    "    array1 = mergesort(array1)\n",
    "    array2 = mergesort(array2)\n",
    "\n",
    "    return merge(array1,array2)\n",
    "\n",
    "\n",
    "def merge(array1, array2):\n",
    "    array3 = []\n",
    "    while len(array1) != 0 and len(array2) != 0:\n",
    "        if array1[0] > array2[0]:\n",
    "            array3.append(array2[0])\n",
    "            array2.remove(array2[0])\n",
    "        else:\n",
    "            array3.append(array1[0])\n",
    "            array2.remove(array2[0])\n",
    "    \n",
    "    if len(array1) == 0:\n",
    "        return array3 + array2\n",
    "    else:\n",
    "        return array3 + array1\n",
    "\n",
    "    \n",
    "mergesort([6, 5, 5, 7, 4, 8, 3, 5, 1, 2, 9])"
   ]
  },
  {
   "cell_type": "markdown",
   "metadata": {},
   "source": [
    "pseudocode\n",
    "\n",
    "make a function that takes the input arr\n",
    "    make an new empty set \n",
    "\n",
    "    if the arr length is 0 \n",
    "        return new set\n",
    "    \n",
    "    variable for biggest number\n",
    "    for number in array\n",
    "        if the current number in array is bigger than biggest number\n",
    "            biggest number is now number\n",
    "\n",
    "    add this biggest number to the empty array\n",
    "    remove it from the original array\n",
    "\n",
    "    return the function and new array\n"
   ]
  },
  {
   "cell_type": "code",
   "execution_count": 12,
   "metadata": {},
   "outputs": [
    {
     "name": "stdout",
     "output_type": "stream",
     "text": [
      "{1, 2, 3, 4, 5, 6, 7, 8, 9}\n"
     ]
    }
   ],
   "source": [
    "def selection_recursive(arr):\n",
    "    array2 = set()\n",
    "\n",
    "    if len(arr) == 0:\n",
    "        return array2\n",
    "    \n",
    "    biggest_number = 0\n",
    "    for i in range(1, len(arr)):\n",
    "        if arr[i] > arr[biggest_number]:\n",
    "            biggest_number = i\n",
    "\n",
    "    array2.add(arr[biggest_number])\n",
    "    arr.pop(biggest_number)\n",
    "\n",
    "    return selection_recursive(arr) | array2\n",
    "\n",
    "arr = [6, 5, 5, 7, 4, 8, 3, 5, 1, 2, 9]\n",
    "array2 = selection_recursive(arr)\n",
    "print(array2)\n"
   ]
  }
 ],
 "metadata": {
  "kernelspec": {
   "display_name": "Python 3",
   "language": "python",
   "name": "python3"
  },
  "language_info": {
   "codemirror_mode": {
    "name": "ipython",
    "version": 3
   },
   "file_extension": ".py",
   "mimetype": "text/x-python",
   "name": "python",
   "nbconvert_exporter": "python",
   "pygments_lexer": "ipython3",
   "version": "3.10.13"
  }
 },
 "nbformat": 4,
 "nbformat_minor": 2
}
