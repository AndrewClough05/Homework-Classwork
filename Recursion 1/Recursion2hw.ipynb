{
 "cells": [
  {
   "cell_type": "code",
   "execution_count": 17,
   "metadata": {},
   "outputs": [
    {
     "data": {
      "text/plain": [
       "[1, 1, 1, 3, 3, 4, 4, 5, 5, 5, 6]"
      ]
     },
     "execution_count": 17,
     "metadata": {},
     "output_type": "execute_result"
    }
   ],
   "source": [
    "#Question 1\n",
    "def mergesort(arr):\n",
    "    n = len(arr)\n",
    "    if (n <= 1):\n",
    "        return arr\n",
    "    \n",
    "    array1 = arr[: int(n/2)]\n",
    "    array2 = arr[int(n/2) :]\n",
    "   \n",
    "\n",
    "    array1 = mergesort(array1)\n",
    "    array2 = mergesort(array2)\n",
    "\n",
    "    return merge(array1,array2)\n",
    "\n",
    "\n",
    "def merge(array1, array2):\n",
    "    array3 = []\n",
    "    while len(array1) != 0 and len(array2) != 0:\n",
    "        if array1[0] > array2[0]:\n",
    "            array3.append(array2[0])\n",
    "            array2.remove(array2[0])\n",
    "        else:\n",
    "            array3.append(array1[0])\n",
    "            array2.remove(array2[0])\n",
    "    \n",
    "    if len(array1) == 0:\n",
    "        return array3 + array2\n",
    "    else:\n",
    "        return array3 + array1\n",
    "\n",
    "    \n",
    "mergesort([6, 5, 5, 7, 4, 8, 3, 5, 1, 2, 9])"
   ]
  },
  {
   "cell_type": "code",
   "execution_count": null,
   "metadata": {},
   "outputs": [],
   "source": []
  }
 ],
 "metadata": {
  "kernelspec": {
   "display_name": "Python 3",
   "language": "python",
   "name": "python3"
  },
  "language_info": {
   "codemirror_mode": {
    "name": "ipython",
    "version": 3
   },
   "file_extension": ".py",
   "mimetype": "text/x-python",
   "name": "python",
   "nbconvert_exporter": "python",
   "pygments_lexer": "ipython3",
   "version": "3.10.13"
  }
 },
 "nbformat": 4,
 "nbformat_minor": 2
}
