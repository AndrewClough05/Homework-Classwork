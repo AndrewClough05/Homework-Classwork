{
 "cells": [
  {
   "cell_type": "markdown",
   "metadata": {},
   "source": [
    "Psuedocode Question 1\n",
    "\n"
   ]
  },
  {
   "cell_type": "code",
   "execution_count": 2,
   "metadata": {},
   "outputs": [
    {
     "name": "stdout",
     "output_type": "stream",
     "text": [
      "The Shortest Superstring is gctaagttcatgcatc\n"
     ]
    }
   ],
   "source": []
  },
  {
   "cell_type": "code",
   "execution_count": null,
   "metadata": {},
   "outputs": [],
   "source": [
    "#Question 1\n",
    "\n",
    "import sys\n",
    "\n",
    "def smaller_one(s1,s2):\n",
    "    if s1 > s2:\n",
    "        return s1\n",
    "    else:\n",
    "        return s2\n",
    "    \n",
    "def findOverlappingPair(s1, s2):\n",
    "    total_lenght = -sys.maxsize\n",
    "    lenght1 = len(s1)\n",
    "    lenght2 = len(s2)\n",
    "    str_ = \"\"\n",
    "    for i in range(smaller_one(s1,s2)+1):\n",
    "\n",
    "    \n"
   ]
  }
 ],
 "metadata": {
  "kernelspec": {
   "display_name": "Python 3",
   "language": "python",
   "name": "python3"
  },
  "language_info": {
   "codemirror_mode": {
    "name": "ipython",
    "version": 3
   },
   "file_extension": ".py",
   "mimetype": "text/x-python",
   "name": "python",
   "nbconvert_exporter": "python",
   "pygments_lexer": "ipython3",
   "version": "3.0.0"
  }
 },
 "nbformat": 4,
 "nbformat_minor": 2
}
