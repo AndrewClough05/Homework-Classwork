{
 "cells": [
  {
   "cell_type": "markdown",
   "metadata": {},
   "source": [
    "Psuedocode Question 1\n",
    "\n"
   ]
  },
  {
   "cell_type": "code",
   "execution_count": 2,
   "metadata": {},
   "outputs": [
    {
     "name": "stdout",
     "output_type": "stream",
     "text": [
      "The Shortest Superstring is gctaagttcatgcatc\n"
     ]
    }
   ],
   "source": []
  },
  {
   "cell_type": "code",
   "execution_count": 1,
   "metadata": {},
   "outputs": [],
   "source": [
    "#Question 1\n",
    "\n",
    "def overlap(s1,s2):\n",
    "    max_overlap = 0\n",
    "    cuurent_overlap = 1\n",
    "\n",
    "    while cuurent_overlap <= len(s1) and cuurent_overlap <= len(s2):\n",
    "        add_on_end = s1[-cuurent_overlap:]\n",
    "        add_on_front = s2[:cuurent_overlap]\n",
    "        \n",
    "        if add_on_end -- add_on_front:\n",
    "            max_overlap = cuurent_overlap\n",
    "        cuurent_overlap += 1\n",
    "    return max_overlap\n",
    "\n",
    "\n"
   ]
  },
  {
   "cell_type": "code",
   "execution_count": null,
   "metadata": {},
   "outputs": [],
   "source": [
    "def overlap(s1,s2):\n",
    "    max_overlap = 0\n",
    "    cuurent_overlap = 1\n",
    "\n",
    "    while cuurent_overlap <= len(s1) and cuurent_overlap <= len(s2):\n",
    "        add_on_end = s1[-cuurent_overlap:]\n",
    "        add_on_front = s2[:cuurent_overlap]\n",
    "        \n",
    "        if add_on_end -- add_on_front:\n",
    "            max_overlap = cuurent_overlap\n",
    "        cuurent_overlap += 1\n",
    "    return max_overlap\n",
    "\n",
    "def greedy_overlap(string_list):\n",
    "    greedy_choice = ('', '', 0 )\n",
    "\n",
    "    for s1 in string_list:\n",
    "        for s2 in string_list:\n",
    "            if s1 != s2:\n",
    "                overlap2 = overlap(s1,s2)\n",
    "                if overlap2 > greedy_choice[2]:\n",
    "                    greedy_choice = (s1,s2, overlap2)\n",
    "    return greedy_choice"
   ]
  },
  {
   "cell_type": "code",
   "execution_count": 2,
   "metadata": {},
   "outputs": [],
   "source": [
    "def overlap(s1,s2):\n",
    "    max_overlap = 0\n",
    "    cuurent_overlap = 1\n",
    "\n",
    "    while cuurent_overlap <= len(s1) and cuurent_overlap <= len(s2):\n",
    "        add_on_end = s1[-cuurent_overlap:]\n",
    "        add_on_front = s2[:cuurent_overlap]\n",
    "        \n",
    "        if add_on_end -- add_on_front:\n",
    "            max_overlap = cuurent_overlap\n",
    "        cuurent_overlap += 1\n",
    "    return max_overlap\n",
    "\n",
    "def best_overlap(string_list):\n",
    "    best_overlap = 0\n",
    "    best_pair = (None,None)\n",
    "    \n",
    "    for i in range(len(string_list)):\n",
    "        for j in range(i+1, len(string_list)):\n",
    "            olap = overlap(string_list[i], string_list[j])\n",
    "            \n",
    "            if olap > best_overlap:\n",
    "                best_pair = olap\n",
    "                best_pair = (string_list[i], string_list[j])\n",
    "    return best_pair\n",
    "\n",
    "def merge(s1,s2,overlap):\n",
    "    return s1 + s2[overlap]\n",
    "\n",
    "def shortest_superstring(string_list):\n",
    "    while len(string_list) > 1:\n",
    "        s1, s2 = best_overlap(string_list)\n",
    "\n",
    "        if s1 == None and s2 == None:\n",
    "            break\n",
    "\n",
    "        olap = overlap(s1,s2)\n",
    "        merged_string = merge(s1,s2, olap)\n",
    "        string_list.remove(s1)\n",
    "        string_list.remove(s2)\n",
    "        string_list.append(merged_string)\n",
    "    return string_list\n",
    "\n"
   ]
  },
  {
   "cell_type": "code",
   "execution_count": 3,
   "metadata": {},
   "outputs": [
    {
     "ename": "TypeError",
     "evalue": "bad operand type for unary -: 'str'",
     "output_type": "error",
     "traceback": [
      "\u001b[0;31m---------------------------------------------------------------------------\u001b[0m",
      "\u001b[0;31mTypeError\u001b[0m                                 Traceback (most recent call last)",
      "Cell \u001b[0;32mIn[3], line 1\u001b[0m\n\u001b[0;32m----> 1\u001b[0m \u001b[43mshortest_superstring\u001b[49m\u001b[43m(\u001b[49m\u001b[43m[\u001b[49m\u001b[38;5;124;43m'\u001b[39;49m\u001b[38;5;124;43mUV\u001b[39;49m\u001b[38;5;124;43m'\u001b[39;49m\u001b[43m,\u001b[49m\u001b[43m \u001b[49m\u001b[38;5;124;43m'\u001b[39;49m\u001b[38;5;124;43mVW\u001b[39;49m\u001b[38;5;124;43m'\u001b[39;49m\u001b[43m,\u001b[49m\u001b[43m \u001b[49m\u001b[38;5;124;43m'\u001b[39;49m\u001b[38;5;124;43mXY\u001b[39;49m\u001b[38;5;124;43m'\u001b[39;49m\u001b[43m,\u001b[49m\u001b[43m \u001b[49m\u001b[38;5;124;43m'\u001b[39;49m\u001b[38;5;124;43mYZ\u001b[39;49m\u001b[38;5;124;43m'\u001b[39;49m\u001b[43m]\u001b[49m\u001b[43m)\u001b[49m\n",
      "Cell \u001b[0;32mIn[2], line 32\u001b[0m, in \u001b[0;36mshortest_superstring\u001b[0;34m(string_list)\u001b[0m\n\u001b[1;32m     30\u001b[0m \u001b[38;5;28;01mdef\u001b[39;00m \u001b[38;5;21mshortest_superstring\u001b[39m(string_list):\n\u001b[1;32m     31\u001b[0m     \u001b[38;5;28;01mwhile\u001b[39;00m \u001b[38;5;28mlen\u001b[39m(string_list) \u001b[38;5;241m>\u001b[39m \u001b[38;5;241m1\u001b[39m:\n\u001b[0;32m---> 32\u001b[0m         s1, s2 \u001b[38;5;241m=\u001b[39m \u001b[43mbest_overlap\u001b[49m\u001b[43m(\u001b[49m\u001b[43mstring_list\u001b[49m\u001b[43m)\u001b[49m\n\u001b[1;32m     34\u001b[0m         \u001b[38;5;28;01mif\u001b[39;00m s1 \u001b[38;5;241m==\u001b[39m \u001b[38;5;28;01mNone\u001b[39;00m \u001b[38;5;129;01mand\u001b[39;00m s2 \u001b[38;5;241m==\u001b[39m \u001b[38;5;28;01mNone\u001b[39;00m:\n\u001b[1;32m     35\u001b[0m             \u001b[38;5;28;01mbreak\u001b[39;00m\n",
      "Cell \u001b[0;32mIn[2], line 20\u001b[0m, in \u001b[0;36mbest_overlap\u001b[0;34m(string_list)\u001b[0m\n\u001b[1;32m     18\u001b[0m \u001b[38;5;28;01mfor\u001b[39;00m i \u001b[38;5;129;01min\u001b[39;00m \u001b[38;5;28mrange\u001b[39m(\u001b[38;5;28mlen\u001b[39m(string_list)):\n\u001b[1;32m     19\u001b[0m     \u001b[38;5;28;01mfor\u001b[39;00m j \u001b[38;5;129;01min\u001b[39;00m \u001b[38;5;28mrange\u001b[39m(i\u001b[38;5;241m+\u001b[39m\u001b[38;5;241m1\u001b[39m, \u001b[38;5;28mlen\u001b[39m(string_list)):\n\u001b[0;32m---> 20\u001b[0m         olap \u001b[38;5;241m=\u001b[39m \u001b[43moverlap\u001b[49m\u001b[43m(\u001b[49m\u001b[43mstring_list\u001b[49m\u001b[43m[\u001b[49m\u001b[43mi\u001b[49m\u001b[43m]\u001b[49m\u001b[43m,\u001b[49m\u001b[43m \u001b[49m\u001b[43mstring_list\u001b[49m\u001b[43m[\u001b[49m\u001b[43mj\u001b[49m\u001b[43m]\u001b[49m\u001b[43m)\u001b[49m\n\u001b[1;32m     22\u001b[0m         \u001b[38;5;28;01mif\u001b[39;00m olap \u001b[38;5;241m>\u001b[39m best_overlap:\n\u001b[1;32m     23\u001b[0m             best_pair \u001b[38;5;241m=\u001b[39m olap\n",
      "Cell \u001b[0;32mIn[2], line 9\u001b[0m, in \u001b[0;36moverlap\u001b[0;34m(s1, s2)\u001b[0m\n\u001b[1;32m      6\u001b[0m add_on_end \u001b[38;5;241m=\u001b[39m s1[\u001b[38;5;241m-\u001b[39mcuurent_overlap:]\n\u001b[1;32m      7\u001b[0m add_on_front \u001b[38;5;241m=\u001b[39m s2[:cuurent_overlap]\n\u001b[0;32m----> 9\u001b[0m \u001b[38;5;28;01mif\u001b[39;00m add_on_end \u001b[38;5;241m-\u001b[39m\u001b[38;5;241;43m-\u001b[39;49m\u001b[43m \u001b[49m\u001b[43madd_on_front\u001b[49m:\n\u001b[1;32m     10\u001b[0m     max_overlap \u001b[38;5;241m=\u001b[39m cuurent_overlap\n\u001b[1;32m     11\u001b[0m cuurent_overlap \u001b[38;5;241m+\u001b[39m\u001b[38;5;241m=\u001b[39m \u001b[38;5;241m1\u001b[39m\n",
      "\u001b[0;31mTypeError\u001b[0m: bad operand type for unary -: 'str'"
     ]
    }
   ],
   "source": [
    "shortest_superstring(['UV', 'VW', 'XY', 'YZ'])"
   ]
  },
  {
   "cell_type": "code",
   "execution_count": 1,
   "metadata": {},
   "outputs": [
    {
     "name": "stdout",
     "output_type": "stream",
     "text": [
      "UVW\n"
     ]
    }
   ],
   "source": [
    "def overlap(s1, s2):\n",
    "    max_overlap = 0\n",
    "    curr_overlap = 1\n",
    "    while curr_overlap <= min(len(s1), len(s2)):\n",
    "        suffix = s1[-curr_overlap:]\n",
    "        prefix = s2[:curr_overlap]\n",
    "        if suffix == prefix:\n",
    "            max_overlap = curr_overlap\n",
    "        curr_overlap += 1\n",
    "    return max_overlap\n",
    "\n",
    "def best_overlap(string_list):\n",
    "    best_olap = 0\n",
    "    best_pair = (None, None)\n",
    "    for i in range(len(string_list)):\n",
    "        for j in range(i+1, len(string_list)):\n",
    "            olap = overlap(string_list[i], string_list[j])\n",
    "            if olap > best_olap:\n",
    "                best_olap = olap\n",
    "                best_pair = (string_list[i], string_list[j])\n",
    "    return best_pair\n",
    "\n",
    "def merge(s1, s2, overlap):\n",
    "    return s1 + s2[overlap:]\n",
    "\n",
    "def shortest_superstring(string_list):\n",
    "    while len(string_list) > 1:\n",
    "        (s1, s2) = best_overlap(string_list)\n",
    "        if s1 is None or s2 is None:\n",
    "            break\n",
    "        olap = overlap(s1, s2)\n",
    "        merged_string = merge(s1, s2, olap)\n",
    "        string_list.remove(s1)\n",
    "        string_list.remove(s2)\n",
    "        string_list.append(merged_string)\n",
    "    return string_list[0]\n",
    "\n",
    "print(shortest_superstring(['UV', 'VW', 'XY', 'YZ']))"
   ]
  }
 ],
 "metadata": {
  "kernelspec": {
   "display_name": "Python 3",
   "language": "python",
   "name": "python3"
  },
  "language_info": {
   "codemirror_mode": {
    "name": "ipython",
    "version": 3
   },
   "file_extension": ".py",
   "mimetype": "text/x-python",
   "name": "python",
   "nbconvert_exporter": "python",
   "pygments_lexer": "ipython3",
   "version": "3.10.13"
  }
 },
 "nbformat": 4,
 "nbformat_minor": 2
}
