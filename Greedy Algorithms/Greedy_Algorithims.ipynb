{
 "cells": [
  {
   "cell_type": "markdown",
   "metadata": {},
   "source": [
    "Psuedocode Question 1\n",
    "\n"
   ]
  },
  {
   "cell_type": "code",
   "execution_count": 6,
   "metadata": {},
   "outputs": [],
   "source": [
    "# Question 1\n",
    "\n",
    "def overlap(s1,s2):\n",
    "    max_overlap = 0\n",
    "    curr_overlap = 1\n",
    "    while curr_overlap <= len(s1) and curr_overlap <= len(s2):\n",
    "        suffix = s1[-curr_overlap:]\n",
    "        prefix = s2[:curr_overlap]\n",
    "        if suffix == prefix:\n",
    "            max_overlap = curr_overlap\n",
    "    return max_overlap \n",
    "\n",
    "def greedy_overlap(string_list):\n",
    "    greedy_choice = (\"\", \"\", 0)\n",
    "    for s1 in string_list:\n",
    "        for s2 in string_list:\n",
    "            if s1 != s2:\n",
    "                olap = overlap(s1, s2)\n",
    "                if olap > greedy_choice[2]:\n",
    "                    greedy_choice = (s1, s2, olap)\n",
    "    return greedy_choice\n",
    "\n",
    "def merge(s1, s2):\n",
    "    merged_string = \n",
    "\n",
    "\n",
    "def shortest_superstring(string_list):\n",
    "    while len(string_list) > 1:\n",
    "        greedy_choice = greedy_overlap(string_list)\n",
    "\n",
    "\n"
   ]
  }
 ],
 "metadata": {
  "kernelspec": {
   "display_name": "Python 3",
   "language": "python",
   "name": "python3"
  },
  "language_info": {
   "codemirror_mode": {
    "name": "ipython",
    "version": 3
   },
   "file_extension": ".py",
   "mimetype": "text/x-python",
   "name": "python",
   "nbconvert_exporter": "python",
   "pygments_lexer": "ipython3",
   "version": "3.10.13"
  }
 },
 "nbformat": 4,
 "nbformat_minor": 2
}
